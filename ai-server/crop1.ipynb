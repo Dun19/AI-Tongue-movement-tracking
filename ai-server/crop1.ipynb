{
 "cells": [
  {
   "cell_type": "code",
   "execution_count": 1,
   "metadata": {},
   "outputs": [],
   "source": [
    "from ultralytics import YOLO\n",
    "import cv2\n",
    "import numpy as np\n",
    "from torchvision.utils import save_image\n",
    "from PIL import Image\n",
    "import math"
   ]
  },
  {
   "cell_type": "code",
   "execution_count": 2,
   "metadata": {},
   "outputs": [],
   "source": [
    "def keep_image_size_open(path, size=(640, 640)):\n",
    "    img = Image.open(path)\n",
    "    temp = max(img.size)\n",
    "    mask = Image.new('RGB', (temp, temp), (0, 0, 0))\n",
    "    mask.paste(img, (0, 0))\n",
    "    mask = mask.resize(size)\n",
    "    return mask"
   ]
  },
  {
   "cell_type": "code",
   "execution_count": 3,
   "metadata": {},
   "outputs": [],
   "source": [
    "def gamma_trans(img, gamma):\n",
    "    gamma_table = [np.power(x / 255.0, gamma) * 255.0 for x in range(256)]\n",
    "    gamma_table = np.round(np.array(gamma_table)).astype(np.uint8)\n",
    "    return cv2.LUT(img, gamma_table)\n"
   ]
  },
  {
   "cell_type": "code",
   "execution_count": 4,
   "metadata": {},
   "outputs": [],
   "source": [
    "raw_path = r\"photos\\raw_photos\\image0010.jpg\"\n",
    "img_gray = cv2.imread(raw_path, 0)   # 灰度图读取，用于计算gamma值\n",
    "img = cv2.imread(raw_path)    # 原图读取\n",
    "\n",
    "mean = np.mean(img_gray)\n",
    "gamma_val = math.log10(0.5)/math.log10(mean/255)    # 公式计算gamma\n",
    "\n",
    "image_gamma_correct = gamma_trans(img, gamma_val)   # gamma变换\n"
   ]
  },
  {
   "cell_type": "code",
   "execution_count": 12,
   "metadata": {},
   "outputs": [
    {
     "ename": "error",
     "evalue": "OpenCV(4.7.0) D:\\a\\opencv-python\\opencv-python\\opencv\\modules\\imgcodecs\\src\\loadsave.cpp:692: error: (-2:Unspecified error) could not find a writer for the specified extension in function 'cv::imwrite_'\n",
     "output_type": "error",
     "traceback": [
      "\u001b[1;31m---------------------------------------------------------------------------\u001b[0m",
      "\u001b[1;31merror\u001b[0m                                     Traceback (most recent call last)",
      "Cell \u001b[1;32mIn[12], line 1\u001b[0m\n\u001b[1;32m----> 1\u001b[0m cv2\u001b[39m.\u001b[39;49mimwrite(\u001b[39mr\u001b[39;49m\u001b[39m\"\u001b[39;49m\u001b[39mphotos\u001b[39;49m\u001b[39m\\\u001b[39;49m\u001b[39mgamma_photos\u001b[39;49m\u001b[39m\"\u001b[39;49m, img)\n\u001b[0;32m      2\u001b[0m cv2\u001b[39m.\u001b[39mwaitKey(\u001b[39m0\u001b[39m)\n",
      "\u001b[1;31merror\u001b[0m: OpenCV(4.7.0) D:\\a\\opencv-python\\opencv-python\\opencv\\modules\\imgcodecs\\src\\loadsave.cpp:692: error: (-2:Unspecified error) could not find a writer for the specified extension in function 'cv::imwrite_'\n"
     ]
    }
   ],
   "source": [
    "cv2.imwrite(r\"photos\\gamma_photos\", img)\n",
    "cv2.waitKey(0)\n"
   ]
  },
  {
   "cell_type": "code",
   "execution_count": 8,
   "metadata": {},
   "outputs": [
    {
     "ename": "FileNotFoundError",
     "evalue": "[Errno 2] No such file or directory: 'gamma_photos\\\\gamma1.jpg'",
     "output_type": "error",
     "traceback": [
      "\u001b[1;31m---------------------------------------------------------------------------\u001b[0m",
      "\u001b[1;31mFileNotFoundError\u001b[0m                         Traceback (most recent call last)",
      "Cell \u001b[1;32mIn[8], line 2\u001b[0m\n\u001b[0;32m      1\u001b[0m _input \u001b[39m=\u001b[39m \u001b[39mr\u001b[39m\u001b[39m\"\u001b[39m\u001b[39mgamma_photos\u001b[39m\u001b[39m\\\u001b[39m\u001b[39mgamma1.jpg\u001b[39m\u001b[39m\"\u001b[39m\n\u001b[1;32m----> 2\u001b[0m img \u001b[39m=\u001b[39m keep_image_size_open(_input)\n",
      "Cell \u001b[1;32mIn[2], line 2\u001b[0m, in \u001b[0;36mkeep_image_size_open\u001b[1;34m(path, size)\u001b[0m\n\u001b[0;32m      1\u001b[0m \u001b[39mdef\u001b[39;00m \u001b[39mkeep_image_size_open\u001b[39m(path, size\u001b[39m=\u001b[39m(\u001b[39m640\u001b[39m, \u001b[39m640\u001b[39m)):\n\u001b[1;32m----> 2\u001b[0m     img \u001b[39m=\u001b[39m Image\u001b[39m.\u001b[39;49mopen(path)\n\u001b[0;32m      3\u001b[0m     temp \u001b[39m=\u001b[39m \u001b[39mmax\u001b[39m(img\u001b[39m.\u001b[39msize)\n\u001b[0;32m      4\u001b[0m     mask \u001b[39m=\u001b[39m Image\u001b[39m.\u001b[39mnew(\u001b[39m'\u001b[39m\u001b[39mRGB\u001b[39m\u001b[39m'\u001b[39m, (temp, temp), (\u001b[39m0\u001b[39m, \u001b[39m0\u001b[39m, \u001b[39m0\u001b[39m))\n",
      "File \u001b[1;32mc:\\Users\\youca\\AppData\\Local\\Programs\\Python\\Python39\\lib\\site-packages\\PIL\\Image.py:3236\u001b[0m, in \u001b[0;36mopen\u001b[1;34m(fp, mode, formats)\u001b[0m\n\u001b[0;32m   3233\u001b[0m     filename \u001b[39m=\u001b[39m fp\n\u001b[0;32m   3235\u001b[0m \u001b[39mif\u001b[39;00m filename:\n\u001b[1;32m-> 3236\u001b[0m     fp \u001b[39m=\u001b[39m builtins\u001b[39m.\u001b[39;49mopen(filename, \u001b[39m\"\u001b[39;49m\u001b[39mrb\u001b[39;49m\u001b[39m\"\u001b[39;49m)\n\u001b[0;32m   3237\u001b[0m     exclusive_fp \u001b[39m=\u001b[39m \u001b[39mTrue\u001b[39;00m\n\u001b[0;32m   3239\u001b[0m \u001b[39mtry\u001b[39;00m:\n",
      "\u001b[1;31mFileNotFoundError\u001b[0m: [Errno 2] No such file or directory: 'gamma_photos\\\\gamma1.jpg'"
     ]
    }
   ],
   "source": [
    "_input = r\"gamma_photos\\gamma1.jpg\"\n",
    "img = keep_image_size_open(_input)"
   ]
  },
  {
   "cell_type": "code",
   "execution_count": null,
   "metadata": {},
   "outputs": [],
   "source": [
    "model = YOLO(\"ai-server/Yolomodel/best.pt\")"
   ]
  },
  {
   "cell_type": "code",
   "execution_count": null,
   "metadata": {},
   "outputs": [],
   "source": [
    "predict = model.predict(\n",
    "    source=r\"C:\\Users\\youca\\Downloads\\TeckyPJ3\\gamma\\gamma1.jpg\", save=True, conf=0.90, save_txt=True)"
   ]
  },
  {
   "cell_type": "code",
   "execution_count": null,
   "metadata": {},
   "outputs": [],
   "source": [
    "\n",
    "mask_array = (predict[0].masks.data[0].numpy() * 255).astype(\"uint8\")\n",
    "cv2.imwrite(\"mask_image10.jpg\", mask_array)"
   ]
  }
 ],
 "metadata": {
  "kernelspec": {
   "display_name": "Python 3",
   "language": "python",
   "name": "python3"
  },
  "language_info": {
   "codemirror_mode": {
    "name": "ipython",
    "version": 3
   },
   "file_extension": ".py",
   "mimetype": "text/x-python",
   "name": "python",
   "nbconvert_exporter": "python",
   "pygments_lexer": "ipython3",
   "version": "3.9.13"
  },
  "orig_nbformat": 4
 },
 "nbformat": 4,
 "nbformat_minor": 2
}
