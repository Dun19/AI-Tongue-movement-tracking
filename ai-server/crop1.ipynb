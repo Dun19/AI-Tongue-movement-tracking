{
 "cells": [
  {
   "cell_type": "code",
   "execution_count": 20,
   "metadata": {},
   "outputs": [],
   "source": [
    "from ultralytics import YOLO\n",
    "import cv2\n",
    "import numpy as np\n",
    "\n",
    "from PIL import Image\n",
    "import math"
   ]
  },
  {
   "cell_type": "code",
   "execution_count": 2,
   "metadata": {},
   "outputs": [],
   "source": [
    "def keep_image_size_open(path, size=(640, 640)):\n",
    "    img = Image.open(path)\n",
    "    temp = max(img.size)\n",
    "    mask = Image.new('RGB', (temp, temp), (0, 0, 0))\n",
    "    mask.paste(img, (0, 0))\n",
    "    mask = mask.resize(size)\n",
    "    return mask"
   ]
  },
  {
   "cell_type": "code",
   "execution_count": 3,
   "metadata": {},
   "outputs": [],
   "source": [
    "def gamma_trans(img, gamma):\n",
    "    gamma_table = [np.power(x / 255.0, gamma) * 255.0 for x in range(256)]\n",
    "    gamma_table = np.round(np.array(gamma_table)).astype(np.uint8)\n",
    "    return cv2.LUT(img, gamma_table)\n"
   ]
  },
  {
   "cell_type": "code",
   "execution_count": 18,
   "metadata": {},
   "outputs": [],
   "source": [
    "raw_path = r\"photos\\raw_photos\\image0010.jpg\"\n",
    "img_gray = cv2.imread(raw_path, 0)   # 灰度图读取，用于计算gamma值\n",
    "img = cv2.imread(raw_path)    # 原图读取\n",
    "\n",
    "mean = np.mean(img_gray)\n",
    "gamma_val = math.log10(0.5)/math.log10(mean/255)    # 公式计算gamma\n",
    "\n",
    "image_gamma_correct = gamma_trans(img, gamma_val)   # gamma变换\n"
   ]
  },
  {
   "cell_type": "code",
   "execution_count": 38,
   "metadata": {},
   "outputs": [],
   "source": [
    "folder_path = \"photos/gamma_photos\"\n",
    "n=0\n",
    "for i in range(1, n+1):\n",
    "    file_path = os.path.join(folder_path, \"gamma{i}.jpg\")\n",
    "\n",
    "# cv2.waitKey(0)\n"
   ]
  },
  {
   "cell_type": "code",
   "execution_count": 25,
   "metadata": {},
   "outputs": [],
   "source": [
    "_input = r\"photos\\gamma_photos\\gamma1.jpg\"\n",
    "img = keep_image_size_open(_input)"
   ]
  },
  {
   "cell_type": "code",
   "execution_count": 26,
   "metadata": {},
   "outputs": [],
   "source": [
    "model = YOLO(\"yolomodel/best.pt\")"
   ]
  },
  {
   "cell_type": "code",
   "execution_count": 27,
   "metadata": {},
   "outputs": [
    {
     "name": "stderr",
     "output_type": "stream",
     "text": [
      "\n",
      "image 1/1 C:\\Users\\youca\\OneDrive\\\\Tecky_exercise\\tecky-BAD-project\\ai-server\\photos\\gamma_photos\\gamma1.jpg: 640x640 1 tongue, 314.7ms\n",
      "Speed: 4.0ms preprocess, 314.7ms inference, 3.0ms postprocess per image at shape (1, 3, 640, 640)\n",
      "Results saved to \u001b[1mruns\\segment\\predict\u001b[0m\n",
      "1 label saved to runs\\segment\\predict\\labels\n"
     ]
    }
   ],
   "source": [
    "predict = model.predict(\n",
    "    source=r\"photos\\gamma_photos\\gamma1.jpg\", save=True, conf=0.90, save_txt=True)"
   ]
  },
  {
   "cell_type": "code",
   "execution_count": 28,
   "metadata": {},
   "outputs": [
    {
     "data": {
      "text/plain": [
       "True"
      ]
     },
     "execution_count": 28,
     "metadata": {},
     "output_type": "execute_result"
    }
   ],
   "source": [
    "\n",
    "mask_array = (predict[0].masks.data[0].numpy() * 255).astype(\"uint8\")\n",
    "cv2.imwrite(\"mask_image10.jpg\", mask_array)"
   ]
  }
 ],
 "metadata": {
  "kernelspec": {
   "display_name": "Python 3",
   "language": "python",
   "name": "python3"
  },
  "language_info": {
   "codemirror_mode": {
    "name": "ipython",
    "version": 3
   },
   "file_extension": ".py",
   "mimetype": "text/x-python",
   "name": "python",
   "nbconvert_exporter": "python",
   "pygments_lexer": "ipython3",
   "version": "3.9.13"
  },
  "orig_nbformat": 4
 },
 "nbformat": 4,
 "nbformat_minor": 2
}
